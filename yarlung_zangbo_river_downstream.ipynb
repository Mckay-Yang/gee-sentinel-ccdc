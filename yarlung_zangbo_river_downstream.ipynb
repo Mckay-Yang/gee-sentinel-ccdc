{
 "cells": [
  {
   "cell_type": "code",
   "execution_count": null,
   "metadata": {},
   "outputs": [],
   "source": [
    "import ee\n",
    "import geemap\n",
    "import utils\n",
    "\n",
    "utils.ee_init()"
   ]
  },
  {
   "cell_type": "code",
   "execution_count": null,
   "metadata": {},
   "outputs": [],
   "source": [
    "start_date = ee.Date('2015-06-27')\n",
    "end_date = ee.Date('2025-01-01')\n",
    "aoi = ee.FeatureCollection(\n",
    "    'projects/ee-yangluhao990714/assets/downstream_tiny_aoi'\n",
    ").geometry()\n",
    "aoi_grid = ee.FeatureCollection('projects/ee-yangluhao990714/assets/downstream_grid')\n",
    "m = geemap.Map(height='800px')\n",
    "m.centerObject(ee_object=aoi, zoom=10)\n",
    "index = 0\n",
    "for aoi_grid_feature in aoi_grid.getInfo()['features']:\n",
    "    if index is not 80:\n",
    "        index += 1\n",
    "        continue\n",
    "    aoi = ee.Feature(aoi_grid_feature['geometry']).geometry()\n",
    "    sentinel_2_l2a = ee.ImageCollection('COPERNICUS/S2_HARMONIZED').filterBounds(aoi) \\\n",
    "        .filterDate(start_date, end_date)\n",
    "    sentinel_2_l2a = sentinel_2_l2a.map(lambda img: img.clip(aoi))\n",
    "    sentinel_2_l2a = sentinel_2_l2a.remove_clouds()\n",
    "    sentinel_2_l2a = sentinel_2_l2a.band_rename()\n",
    "    # sentinel_2_l2a: ee.ImageCollection = sentinel_2_l2a.temporal_composite(start_date, end_date, 'monthly')\n",
    "    sentinel_2_l2a = sentinel_2_l2a.map(lambda img: img.nbr())\n",
    "    sentinel_2_l2a = sentinel_2_l2a.map(lambda img: img.ndvi())\n",
    "    sentinel_2_l2a = sentinel_2_l2a.map(lambda img: img.ndsi())\n",
    "    sentinel_2_l2a = sentinel_2_l2a.map(lambda img: img.ndwi())\n",
    "    ccdc_input = sentinel_2_l2a.map(\n",
    "        lambda img: img.updateMask(img.select('NDSI').lt(0).And(img.select('NDWI').lt(0)))\n",
    "    )\n",
    "    ccdc_input = ccdc_input.select(['Blue', 'Green', 'Red', 'NIR', 'SWIR1', 'SWIR2', 'NBR', 'NDVI'])\n",
    "    ccdc_input = ccdc_input.map(lambda img: img.clip(aoi))\n",
    "    ccdc_result: ee.Image = ee.Algorithms.TemporalSegmentation.Ccdc(\n",
    "        ccdc_input,\n",
    "        minObservations=12,\n",
    "        dateFormat=2,\n",
    "        chiSquareProbability=0.99,\n",
    "        maxIterations=25000,\n",
    "    )\n",
    "    bands_list = ee.List([\n",
    "        ee.Dictionary({'tBreak': [\n",
    "            'tBreak_0', 'tBreak_1', 'tBreak_2', 'tBreak_3', 'tBreak_4',\n",
    "            'tBreak_5', 'tBreak_6', 'tBreak_7', 'tBreak_8', 'tBreak_9'\n",
    "        ]}),\n",
    "        ee.Dictionary({'changeProb': [\n",
    "            'changeProb_0', 'changeProb_1', 'changeProb_2', 'changeProb_3', 'changeProb_4',\n",
    "            'changeProb_5', 'changeProb_6', 'changeProb_7', 'changeProb_8', 'changeProb_9'\n",
    "        ]}),\n",
    "    ])\n",
    "    # keys() and values() will return ee.List with length 1, so we need to get(0) to get the actual parameters\n",
    "    ccdc_result_flat_list = bands_list.map(\n",
    "        lambda band: ccdc_result.select([ee.Dictionary(band).keys().get(0)]).arrayPad([10], 0) \\\n",
    "            .arrayFlatten([ee.Dictionary(band).values().get(0)])\n",
    "    )\n",
    "    ccdc_result_flat = ee.Image(ccdc_result_flat_list.get(0)).addBands(ee.Image(ccdc_result_flat_list.get(1)))\n",
    "    file_name = f'ccdc_result_{index}'\n",
    "    geemap.ee_export_image_to_asset(\n",
    "        image=ccdc_result_flat,\n",
    "        description='export_' + file_name,\n",
    "        assetId=f'projects/ee-yangluhao990714/assets/ccdc_result_millis/{file_name}',\n",
    "        scale=10,\n",
    "        region=aoi,\n",
    "        maxPixels=1e13,\n",
    "        crs='EPSG:4326',\n",
    "    )\n",
    "    index += 1"
   ]
  }
 ],
 "metadata": {
  "kernelspec": {
   "display_name": "gee",
   "language": "python",
   "name": "python3"
  },
  "language_info": {
   "codemirror_mode": {
    "name": "ipython",
    "version": 3
   },
   "file_extension": ".py",
   "mimetype": "text/x-python",
   "name": "python",
   "nbconvert_exporter": "python",
   "pygments_lexer": "ipython3",
   "version": "3.11.9"
  }
 },
 "nbformat": 4,
 "nbformat_minor": 4
}
